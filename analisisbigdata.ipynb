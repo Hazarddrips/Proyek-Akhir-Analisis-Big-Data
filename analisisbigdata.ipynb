{
 "cells": [
  {
   "cell_type": "markdown",
   "metadata": {},
   "source": [
    "# Title"
   ]
  },
  {
   "cell_type": "markdown",
   "metadata": {},
   "source": [
    "### Deskripsi Proyek :\n",
    "\n",
    "\n",
    "### Dataset :\n",
    "\n",
    "\n",
    "### Collaborator :\n",
    "- Taufik Suryo Abintoro (202110370311510)\n",
    "- Febriansyah Ilham Nur Wakit (202110370311514)\n",
    "- Haidar Zakki Jumali (202110370311510)"
   ]
  },
  {
   "cell_type": "markdown",
   "metadata": {},
   "source": [
    "## Requirements"
   ]
  },
  {
   "cell_type": "markdown",
   "metadata": {},
   "source": [
    "## Data Preparation"
   ]
  },
  {
   "cell_type": "markdown",
   "metadata": {},
   "source": [
    "## Eksploratory Data Analysis"
   ]
  },
  {
   "cell_type": "markdown",
   "metadata": {},
   "source": [
    "## Summary"
   ]
  }
 ],
 "metadata": {
  "language_info": {
   "name": "python"
  }
 },
 "nbformat": 4,
 "nbformat_minor": 2
}
